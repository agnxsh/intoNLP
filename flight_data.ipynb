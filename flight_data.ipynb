{
  "cells": [
    {
      "cell_type": "code",
      "execution_count": null,
      "metadata": {
        "colab": {
          "base_uri": "https://localhost:8080/"
        },
        "id": "AQuYuJuLju2V",
        "outputId": "6c520025-6105-45a6-ddad-f01b17e25d89"
      },
      "outputs": [
        {
          "name": "stdout",
          "output_type": "stream",
          "text": [
            "Looking in indexes: https://pypi.org/simple, https://us-python.pkg.dev/colab-wheels/public/simple/\n",
            "Requirement already satisfied: pandas in /usr/local/lib/python3.7/dist-packages (1.3.5)\n",
            "Requirement already satisfied: python-dateutil>=2.7.3 in /usr/local/lib/python3.7/dist-packages (from pandas) (2.8.2)\n",
            "Requirement already satisfied: pytz>=2017.3 in /usr/local/lib/python3.7/dist-packages (from pandas) (2022.2.1)\n",
            "Requirement already satisfied: numpy>=1.17.3 in /usr/local/lib/python3.7/dist-packages (from pandas) (1.21.6)\n",
            "Requirement already satisfied: six>=1.5 in /usr/local/lib/python3.7/dist-packages (from python-dateutil>=2.7.3->pandas) (1.15.0)\n",
            "Looking in indexes: https://pypi.org/simple, https://us-python.pkg.dev/colab-wheels/public/simple/\n",
            "Requirement already satisfied: stop-words in /usr/local/lib/python3.7/dist-packages (2018.7.23)\n",
            "Looking in indexes: https://pypi.org/simple, https://us-python.pkg.dev/colab-wheels/public/simple/\n",
            "Requirement already satisfied: nltk in /usr/local/lib/python3.7/dist-packages (3.7)\n",
            "Requirement already satisfied: regex>=2021.8.3 in /usr/local/lib/python3.7/dist-packages (from nltk) (2022.6.2)\n",
            "Requirement already satisfied: joblib in /usr/local/lib/python3.7/dist-packages (from nltk) (1.1.0)\n",
            "Requirement already satisfied: click in /usr/local/lib/python3.7/dist-packages (from nltk) (7.1.2)\n",
            "Requirement already satisfied: tqdm in /usr/local/lib/python3.7/dist-packages (from nltk) (4.64.0)\n",
            "Looking in indexes: https://pypi.org/simple, https://us-python.pkg.dev/colab-wheels/public/simple/\n",
            "Requirement already satisfied: spacy in /usr/local/lib/python3.7/dist-packages (3.4.1)\n",
            "Requirement already satisfied: numpy>=1.15.0 in /usr/local/lib/python3.7/dist-packages (from spacy) (1.21.6)\n",
            "Requirement already satisfied: typing-extensions<4.2.0,>=3.7.4 in /usr/local/lib/python3.7/dist-packages (from spacy) (4.1.1)\n",
            "Requirement already satisfied: jinja2 in /usr/local/lib/python3.7/dist-packages (from spacy) (2.11.3)\n",
            "Requirement already satisfied: srsly<3.0.0,>=2.4.3 in /usr/local/lib/python3.7/dist-packages (from spacy) (2.4.4)\n",
            "Requirement already satisfied: pathy>=0.3.5 in /usr/local/lib/python3.7/dist-packages (from spacy) (0.6.2)\n",
            "Requirement already satisfied: tqdm<5.0.0,>=4.38.0 in /usr/local/lib/python3.7/dist-packages (from spacy) (4.64.0)\n",
            "Requirement already satisfied: murmurhash<1.1.0,>=0.28.0 in /usr/local/lib/python3.7/dist-packages (from spacy) (1.0.8)\n",
            "Requirement already satisfied: catalogue<2.1.0,>=2.0.6 in /usr/local/lib/python3.7/dist-packages (from spacy) (2.0.8)\n",
            "Requirement already satisfied: pydantic!=1.8,!=1.8.1,<1.10.0,>=1.7.4 in /usr/local/lib/python3.7/dist-packages (from spacy) (1.9.2)\n",
            "Requirement already satisfied: requests<3.0.0,>=2.13.0 in /usr/local/lib/python3.7/dist-packages (from spacy) (2.23.0)\n",
            "Requirement already satisfied: preshed<3.1.0,>=3.0.2 in /usr/local/lib/python3.7/dist-packages (from spacy) (3.0.7)\n",
            "Requirement already satisfied: spacy-legacy<3.1.0,>=3.0.9 in /usr/local/lib/python3.7/dist-packages (from spacy) (3.0.10)\n",
            "Requirement already satisfied: thinc<8.2.0,>=8.1.0 in /usr/local/lib/python3.7/dist-packages (from spacy) (8.1.0)\n",
            "Requirement already satisfied: typer<0.5.0,>=0.3.0 in /usr/local/lib/python3.7/dist-packages (from spacy) (0.4.2)\n",
            "Requirement already satisfied: cymem<2.1.0,>=2.0.2 in /usr/local/lib/python3.7/dist-packages (from spacy) (2.0.6)\n",
            "Requirement already satisfied: spacy-loggers<2.0.0,>=1.0.0 in /usr/local/lib/python3.7/dist-packages (from spacy) (1.0.3)\n",
            "Requirement already satisfied: langcodes<4.0.0,>=3.2.0 in /usr/local/lib/python3.7/dist-packages (from spacy) (3.3.0)\n",
            "Requirement already satisfied: setuptools in /usr/local/lib/python3.7/dist-packages (from spacy) (57.4.0)\n",
            "Requirement already satisfied: packaging>=20.0 in /usr/local/lib/python3.7/dist-packages (from spacy) (21.3)\n",
            "Requirement already satisfied: wasabi<1.1.0,>=0.9.1 in /usr/local/lib/python3.7/dist-packages (from spacy) (0.10.1)\n",
            "Requirement already satisfied: zipp>=0.5 in /usr/local/lib/python3.7/dist-packages (from catalogue<2.1.0,>=2.0.6->spacy) (3.8.1)\n",
            "Requirement already satisfied: pyparsing!=3.0.5,>=2.0.2 in /usr/local/lib/python3.7/dist-packages (from packaging>=20.0->spacy) (3.0.9)\n",
            "Requirement already satisfied: smart-open<6.0.0,>=5.2.1 in /usr/local/lib/python3.7/dist-packages (from pathy>=0.3.5->spacy) (5.2.1)\n",
            "Requirement already satisfied: certifi>=2017.4.17 in /usr/local/lib/python3.7/dist-packages (from requests<3.0.0,>=2.13.0->spacy) (2022.6.15)\n",
            "Requirement already satisfied: urllib3!=1.25.0,!=1.25.1,<1.26,>=1.21.1 in /usr/local/lib/python3.7/dist-packages (from requests<3.0.0,>=2.13.0->spacy) (1.24.3)\n",
            "Requirement already satisfied: chardet<4,>=3.0.2 in /usr/local/lib/python3.7/dist-packages (from requests<3.0.0,>=2.13.0->spacy) (3.0.4)\n",
            "Requirement already satisfied: idna<3,>=2.5 in /usr/local/lib/python3.7/dist-packages (from requests<3.0.0,>=2.13.0->spacy) (2.10)\n",
            "Requirement already satisfied: blis<0.8.0,>=0.7.8 in /usr/local/lib/python3.7/dist-packages (from thinc<8.2.0,>=8.1.0->spacy) (0.7.8)\n",
            "Requirement already satisfied: click<9.0.0,>=7.1.1 in /usr/local/lib/python3.7/dist-packages (from typer<0.5.0,>=0.3.0->spacy) (7.1.2)\n",
            "Requirement already satisfied: MarkupSafe>=0.23 in /usr/local/lib/python3.7/dist-packages (from jinja2->spacy) (2.0.1)\n"
          ]
        }
      ],
      "source": [
        "!pip install pandas\n",
        "!pip install stop-words\n",
        "!pip install nltk\n",
        "!pip install -U spacy"
      ]
    },
    {
      "cell_type": "code",
      "execution_count": null,
      "metadata": {
        "id": "piJ-eixVjzvY"
      },
      "outputs": [],
      "source": [
        "test = [['Zest Airways, Inc.', 'Asian Spirit and Zest Air', 'AirAsia Zest', 'AirAsia Zest'], ['Ninoy Aquino International Airport', 'Ninoy Aquino International Airport'], ['Philippines', 'Philippines', 'Republic of the Philippines'], ['Manila', 'Manila'], ['2013', 'August 16, 2013'], ['Civil Aviation Authority of the Philippines', 'CAAP'], ['Zest Air', 'Zest Air']]"
      ]
    },
    {
      "cell_type": "code",
      "execution_count": null,
      "metadata": {
        "id": "QeUDyQRmkITd"
      },
      "outputs": [],
      "source": [
        "test2 = [['Zest Airways , Inc.', 'It', 'the airline', 'Its', 'The airline', 'Zest Air', \"Zest Air 's\", 'the airline', 'The airline'], ['Metro Manila', 'Manila', 'Manila'], ['the Ninoy Aquino International Airport in Pasay City , Metro Manila', 'Ninoy Aquino International Airport , Manila'], ['Asian Spirit', 'Asian Spirit , the first airline in the Philippines to be run as a cooperative'], ['the Philippines', 'the Philippines', 'the Philippines', 'the Republic of the Philippines'], ['2013', '2013'], ['Philippines AirAsia', 'AirAsia', 'AirAsia Philippines'], ['their', \"AirAsia and Zest Air 's\"], ['AirAsia Zest', 'AirAsia Zest']]"
      ]
    },
    {
      "cell_type": "code",
      "execution_count": null,
      "metadata": {
        "colab": {
          "base_uri": "https://localhost:8080/"
        },
        "id": "UgqW_li4GSOH",
        "outputId": "a596110b-44c6-42c6-bd16-b3221c0413b1"
      },
      "outputs": [
        {
          "name": "stderr",
          "output_type": "stream",
          "text": [
            "[nltk_data] Downloading package stopwords to /root/nltk_data...\n",
            "[nltk_data]   Package stopwords is already up-to-date!\n",
            "[nltk_data] Downloading package punkt to /root/nltk_data...\n",
            "[nltk_data]   Package punkt is already up-to-date!\n"
          ]
        },
        {
          "name": "stdout",
          "output_type": "stream",
          "text": [
            "[['Zest Airways , Inc .', 'It', 'airline', 'Its', 'The airline', 'Zest Air', \"Zest Air 's\", 'airline', 'The airline'], ['Metro Manila', 'Manila', 'Manila'], ['Ninoy Aquino International Airport Pasay City , Metro Manila', 'Ninoy Aquino International Airport , Manila'], ['Asian Spirit', 'Asian Spirit , airline Philippines run cooperative'], ['Philippines', 'Philippines', 'Philippines', 'Republic Philippines'], ['2013', '2013'], ['Philippines AirAsia', 'AirAsia', 'AirAsia Philippines'], ['', \"AirAsia Zest Air 's\"], ['AirAsia Zest', 'AirAsia Zest']]\n"
          ]
        }
      ],
      "source": [
        "import nltk\n",
        "from nltk.corpus import stopwords\n",
        "nltk.download('stopwords')\n",
        "nltk.download('punkt')\n",
        "from nltk.tokenize import word_tokenize\n",
        "def stopWords(text):\n",
        "  text_tokens = word_tokenize(text)\n",
        "  tokens_without_sw = [word for word in text_tokens if not word in stopwords.words()]\n",
        "  filter = ' '.join(tokens_without_sw)\n",
        "  return filter\n",
        "\n",
        "def useIt(example):\n",
        "  i=0\n",
        "  j=0\n",
        "  for i in range(len(example)):\n",
        "    for j in range(len(example[i])):\n",
        "      example[i][j] = stopWords(example[i][j])\n",
        "  print(example)\n",
        "\n",
        "useIt(test2)\n"
      ]
    },
    {
      "cell_type": "code",
      "execution_count": null,
      "metadata": {
        "id": "KOdTmbHzkSi6"
      },
      "outputs": [],
      "source": [
        "\n",
        "def gen_dict (req):\n",
        "  dict={}\n",
        "  for i in range(len(req)):\n",
        "    try:\n",
        "        temp = req[i][0]\n",
        "        req[i][0:]=req[i][1:]\n",
        "        dict[temp].append(req[i][0:])\n",
        "    except KeyError:\n",
        "        dict[temp]=[req[i]]\n",
        "  print(dict)\n",
        "  return(dict)"
      ]
    },
    {
      "cell_type": "code",
      "execution_count": null,
      "metadata": {
        "colab": {
          "base_uri": "https://localhost:8080/"
        },
        "id": "Zs_UhQUVbyG-",
        "outputId": "cbba8ad0-cf9d-4cc1-9301-a6755266b71f"
      },
      "outputs": [
        {
          "name": "stdout",
          "output_type": "stream",
          "text": [
            "[['Zest Airways , Inc .', 'Asian Spirit Zest Air', 'AirAsia Zest', 'AirAsia Zest'], ['Ninoy Aquino International Airport', 'Ninoy Aquino International Airport'], ['Philippines', 'Philippines', 'Republic Philippines'], ['Manila', 'Manila'], ['2013', 'August 16 , 2013'], ['Civil Aviation Authority Philippines', 'CAAP'], ['Zest Air', 'Zest Air']]\n",
            "{'Zest Airways , Inc .': [['Asian Spirit Zest Air', 'AirAsia Zest', 'AirAsia Zest']], 'Ninoy Aquino International Airport': [['Ninoy Aquino International Airport']], 'Philippines': [['Philippines', 'Republic Philippines']], 'Manila': [['Manila']], '2013': [['August 16 , 2013']], 'Civil Aviation Authority Philippines': [['CAAP']], 'Zest Air': [['Zest Air']]}\n"
          ]
        }
      ],
      "source": [
        "useIt(test)\n",
        "dict1 = gen_dict(test)\n"
      ]
    },
    {
      "cell_type": "code",
      "execution_count": null,
      "metadata": {
        "id": "UcYB9zatLh19"
      },
      "outputs": [],
      "source": [
        "def gen_dict5(reqq):\n",
        "  dict3={}\n",
        "  for i in range(len(reqq)):\n",
        "      try:\n",
        "        k=reqq[i][0]\n",
        "        if all(k in sub for sub in [dict1,reqq[i]]):\n",
        "          temp = reqq[i][0]\n",
        "          reqq[i][0:]=reqq[i][1:]\n",
        "          dict3[temp].append(reqq[i][0:])\n",
        "        else:\n",
        "            for j in range(len(reqq[i])):\n",
        "              if(reqq[i][j]==k):\n",
        "                reqq[i][j],k=k,reqq[i][j]\n",
        "                temp = reqq[i][0]\n",
        "                reqq[i][0:]=reqq[i][1:]\n",
        "                dict3[temp].append(reqq[i][0:]) \n",
        "              else:\n",
        "                i=i+1\n",
        "                reqq[i][j],k=k,reqq[i][j]\n",
        "                temp = reqq[i][0]\n",
        "                reqq[i][0:]=reqq[i][1:]\n",
        "                dict3[temp].append(reqq[i][0:])                 \n",
        "      except KeyError:\n",
        "        dict3[temp]=[reqq[i]]\n",
        "  print(dict3)\n",
        "  return(dict3)"
      ]
    },
    {
      "cell_type": "code",
      "execution_count": null,
      "metadata": {
        "id": "VqWyDDd_pxpy"
      },
      "outputs": [],
      "source": [
        "# def gen_dict4(req4):\n",
        "#     dictt={}\n",
        "#     x=0\n",
        "#     i=0\n",
        "#     for k,v in dict1.items():\n",
        "#         try:\n",
        "#             if(k==req4[i][x]):\n",
        "#                 dictt=gen_dict(req4)\n",
        "#                 i=i+1\n",
        "#             else:\n",
        "#                 for item in v:\n",
        "#                     x=x+1\n",
        "                    \n",
        "#                     if(req4[i][x]==item):\n",
        "#                         temp=str(item)\n",
        "#                         dictt[temp].append(req4[i][0:])  \n",
        "#         except KeyError:\n",
        "#             temp=req4[i][0]\n",
        "#             dictt[temp]=req4[i]\n",
        "#             i=i+1\n",
        "#     print(dictt)\n",
        "#     return dictt\n",
        "  "
      ]
    },
    {
      "cell_type": "code",
      "execution_count": null,
      "metadata": {
        "id": "ZskMQH7AQO_N"
      },
      "outputs": [],
      "source": []
    },
    {
      "cell_type": "code",
      "execution_count": null,
      "metadata": {
        "colab": {
          "base_uri": "https://localhost:8080/"
        },
        "id": "UeeQEv6FP8GG",
        "outputId": "d9c5dd47-56b2-43b8-b8f0-af03197455eb"
      },
      "outputs": [
        {
          "name": "stdout",
          "output_type": "stream",
          "text": [
            "[['Zest Airways , Inc .', 'It', 'airline', 'Its', 'The airline', 'Zest Air', \"Zest Air 's\", 'airline', 'The airline'], ['Metro Manila', 'Manila', 'Manila'], ['Ninoy Aquino International Airport Pasay City , Metro Manila', 'Ninoy Aquino International Airport , Manila'], ['Asian Spirit', 'Asian Spirit , airline Philippines run cooperative'], ['Philippines', 'Philippines', 'Philippines', 'Republic Philippines'], ['2013', '2013'], ['Philippines AirAsia', 'AirAsia', 'AirAsia Philippines'], ['', \"AirAsia Zest Air 's\"], ['AirAsia Zest', 'AirAsia Zest']]\n",
            "{'Zest Airways , Inc .': [['It', 'airline', 'Its', 'The airline', 'Zest Air', \"Zest Air 's\", 'airline', 'The airline']], 'Metro Manila': [['Manila', 'Manila']], 'Ninoy Aquino International Airport Pasay City , Metro Manila': [['Ninoy Aquino International Airport , Manila']], 'Asian Spirit': [['Asian Spirit , airline Philippines run cooperative']], 'Philippines': [['Philippines', 'Philippines', 'Republic Philippines']], '2013': [['2013']], 'Philippines AirAsia': [['AirAsia', 'AirAsia Philippines']], '': [[\"AirAsia Zest Air 's\"]], 'AirAsia Zest': [['AirAsia Zest']]}\n"
          ]
        }
      ],
      "source": [
        "useIt(test2)\n",
        "dict2 = gen_dict5(test2)"
      ]
    },
    {
      "cell_type": "code",
      "execution_count": null,
      "metadata": {
        "colab": {
          "base_uri": "https://localhost:8080/"
        },
        "id": "dowDFd7TVemm",
        "outputId": "271131c4-874c-450c-faed-163b8d5c3ef2"
      },
      "outputs": [
        {
          "data": {
            "text/plain": [
              "[['It',\n",
              "  'airline',\n",
              "  'Its',\n",
              "  'The airline',\n",
              "  'Zest Air',\n",
              "  \"Zest Air 's\",\n",
              "  'airline',\n",
              "  'The airline'],\n",
              " ['Manila', 'Manila'],\n",
              " ['Ninoy Aquino International Airport , Manila'],\n",
              " ['Asian Spirit , airline Philippines run cooperative'],\n",
              " ['Philippines', 'Philippines', 'Republic Philippines'],\n",
              " ['2013'],\n",
              " ['AirAsia', 'AirAsia Philippines'],\n",
              " [\"AirAsia Zest Air 's\"],\n",
              " ['AirAsia Zest']]"
            ]
          },
          "execution_count": 221,
          "metadata": {},
          "output_type": "execute_result"
        }
      ],
      "source": [
        "test2"
      ]
    },
    {
      "cell_type": "code",
      "execution_count": null,
      "metadata": {
        "colab": {
          "base_uri": "https://localhost:8080/"
        },
        "id": "lcDw1XWTVxZo",
        "outputId": "b76f001d-4997-4409-fa9d-e8c1b152dd33"
      },
      "outputs": [
        {
          "data": {
            "text/plain": [
              "[['Asian Spirit Zest Air', 'AirAsia Zest', 'AirAsia Zest'],\n",
              " ['Ninoy Aquino International Airport'],\n",
              " ['Philippines', 'Republic Philippines'],\n",
              " ['Manila'],\n",
              " ['August 16 , 2013'],\n",
              " ['CAAP'],\n",
              " ['Zest Air']]"
            ]
          },
          "execution_count": 222,
          "metadata": {},
          "output_type": "execute_result"
        }
      ],
      "source": [
        "test"
      ]
    },
    {
      "cell_type": "code",
      "execution_count": null,
      "metadata": {
        "colab": {
          "base_uri": "https://localhost:8080/"
        },
        "id": "his3e-F7J9d6",
        "outputId": "d0a422ab-2a3d-4040-afa7-590ea3d9424a"
      },
      "outputs": [
        {
          "data": {
            "text/plain": [
              "{'Zest Airways , Inc .': [['It',\n",
              "   'airline',\n",
              "   'Its',\n",
              "   'The airline',\n",
              "   'Zest Air',\n",
              "   \"Zest Air 's\",\n",
              "   'airline',\n",
              "   'The airline']],\n",
              " 'Metro Manila': [['Manila', 'Manila']],\n",
              " 'Ninoy Aquino International Airport Pasay City , Metro Manila': [['Ninoy Aquino International Airport , Manila']],\n",
              " 'Asian Spirit': [['Asian Spirit , airline Philippines run cooperative']],\n",
              " 'Philippines': [['Philippines', 'Philippines', 'Republic Philippines']],\n",
              " '2013': [['2013']],\n",
              " 'Philippines AirAsia': [['AirAsia', 'AirAsia Philippines']],\n",
              " '': [[\"AirAsia Zest Air 's\"]],\n",
              " 'AirAsia Zest': [['AirAsia Zest']]}"
            ]
          },
          "execution_count": 223,
          "metadata": {},
          "output_type": "execute_result"
        }
      ],
      "source": [
        "dict2"
      ]
    },
    {
      "cell_type": "code",
      "execution_count": null,
      "metadata": {
        "colab": {
          "base_uri": "https://localhost:8080/"
        },
        "id": "8xwHz_K6tiOX",
        "outputId": "f7c97fc6-e61f-4b44-af54-64d8efc292b4"
      },
      "outputs": [
        {
          "data": {
            "text/plain": [
              "{'Zest Airways , Inc .': [['Asian Spirit Zest Air',\n",
              "   'AirAsia Zest',\n",
              "   'AirAsia Zest']],\n",
              " 'Ninoy Aquino International Airport': [['Ninoy Aquino International Airport']],\n",
              " 'Philippines': [['Philippines', 'Republic Philippines']],\n",
              " 'Manila': [['Manila']],\n",
              " '2013': [['August 16 , 2013']],\n",
              " 'Civil Aviation Authority Philippines': [['CAAP']],\n",
              " 'Zest Air': [['Zest Air']]}"
            ]
          },
          "execution_count": 224,
          "metadata": {},
          "output_type": "execute_result"
        }
      ],
      "source": [
        "dict1"
      ]
    },
    {
      "cell_type": "code",
      "execution_count": null,
      "metadata": {
        "colab": {
          "base_uri": "https://localhost:8080/"
        },
        "id": "a0UjQ31fhPXO",
        "outputId": "5b0c165a-4147-4372-b4ab-034546f6bb6a"
      },
      "outputs": [
        {
          "data": {
            "text/plain": [
              "{'Zest Airways , Inc .': [['Asian Spirit Zest Air',\n",
              "   'AirAsia Zest',\n",
              "   'AirAsia Zest']],\n",
              " 'Ninoy Aquino International Airport': [['Ninoy Aquino International Airport']],\n",
              " 'Philippines': [['Philippines', 'Republic Philippines']],\n",
              " 'Manila': [['Manila']],\n",
              " '2013': [['August 16 , 2013']],\n",
              " 'Civil Aviation Authority Philippines': [['CAAP']],\n",
              " 'Zest Air': [['Zest Air']]}"
            ]
          },
          "execution_count": 225,
          "metadata": {},
          "output_type": "execute_result"
        }
      ],
      "source": [
        "dict1"
      ]
    },
    {
      "cell_type": "code",
      "execution_count": null,
      "metadata": {
        "id": "TZ890kSDdVR5"
      },
      "outputs": [],
      "source": [
        "def intersection(lst1, lst2):\n",
        "    lst3= [value for value in lst1 if value in lst2]\n",
        "    return lst3"
      ]
    },
    {
      "cell_type": "code",
      "execution_count": null,
      "metadata": {
        "colab": {
          "base_uri": "https://localhost:8080/"
        },
        "id": "fYEFtSIKgZz0",
        "outputId": "c5270a92-3748-4a2c-fec5-4422f27f01d9"
      },
      "outputs": [
        {
          "name": "stdout",
          "output_type": "stream",
          "text": [
            "{'Zest Airways , Inc .': [['Asian Spirit Zest Air', 'AirAsia Zest', 'AirAsia Zest']], 'Ninoy Aquino International Airport': [['Ninoy Aquino International Airport']], 'Philippines': [['Philippines', 'Republic Philippines']], 'Manila': [['Manila']], '2013': [['August 16 , 2013']], 'Civil Aviation Authority Philippines': [['CAAP']], 'Zest Air': [['Zest Air']]}\n"
          ]
        }
      ],
      "source": [
        "print(dict1)\n"
      ]
    },
    {
      "cell_type": "code",
      "execution_count": null,
      "metadata": {
        "colab": {
          "base_uri": "https://localhost:8080/"
        },
        "id": "OcalZVJriXBY",
        "outputId": "3d68aa41-da3d-4fc2-b75a-8c3fff73fab1"
      },
      "outputs": [
        {
          "name": "stdout",
          "output_type": "stream",
          "text": [
            "{'Zest Airways , Inc .': [['It', 'airline', 'Its', 'The airline', 'Zest Air', \"Zest Air 's\", 'airline', 'The airline']], 'Metro Manila': [['Manila', 'Manila']], 'Ninoy Aquino International Airport Pasay City , Metro Manila': [['Ninoy Aquino International Airport , Manila']], 'Asian Spirit': [['Asian Spirit , airline Philippines run cooperative']], 'Philippines': [['Philippines', 'Philippines', 'Republic Philippines']], '2013': [['2013']], 'Philippines AirAsia': [['AirAsia', 'AirAsia Philippines']], '': [[\"AirAsia Zest Air 's\"]], 'AirAsia Zest': [['AirAsia Zest']]}\n"
          ]
        }
      ],
      "source": [
        "print(dict2)"
      ]
    },
    {
      "cell_type": "code",
      "execution_count": null,
      "metadata": {
        "colab": {
          "base_uri": "https://localhost:8080/"
        },
        "id": "xoe9SYbxjenk",
        "outputId": "9aa4cc59-9685-4101-b052-7bd65382c3c2"
      },
      "outputs": [
        {
          "name": "stdout",
          "output_type": "stream",
          "text": [
            "{'Zest Airways , Inc .': [], 'Metro Manila': ['Manila', 'Manila'], 'Ninoy Aquino International Airport Pasay City , Metro Manila': ['Ninoy Aquino International Airport , Manila'], 'Asian Spirit': ['Asian Spirit , airline Philippines run cooperative'], 'Philippines': ['Philippines', 'Republic Philippines'], '2013': [], 'Philippines AirAsia': ['AirAsia', 'AirAsia Philippines'], '': [\"AirAsia Zest Air 's\"], 'AirAsia Zest': ['AirAsia Zest']}\n"
          ]
        }
      ],
      "source": [
        "dictfin = {}\n",
        "for k,v in dict2.items():\n",
        "  try:\n",
        "    dictfin[k] = intersection(dict1[k][0],v[0])\n",
        "  except:\n",
        "    dictfin[k] = v[0]\n",
        "\n",
        "  \n",
        "print(dictfin)"
      ]
    },
    {
      "cell_type": "code",
      "execution_count": null,
      "metadata": {
        "colab": {
          "base_uri": "https://localhost:8080/"
        },
        "id": "N0e9w5gbfrGP",
        "outputId": "55e40496-4203-4a07-c9f5-732977c33d32"
      },
      "outputs": [
        {
          "data": {
            "text/plain": [
              "{'Zest Airways , Inc .': [],\n",
              " 'Metro Manila': ['Manila', 'Manila'],\n",
              " 'Ninoy Aquino International Airport Pasay City , Metro Manila': ['Ninoy Aquino International Airport , Manila'],\n",
              " 'Asian Spirit': ['Asian Spirit , airline Philippines run cooperative'],\n",
              " 'Philippines': ['Philippines', 'Republic Philippines'],\n",
              " '2013': [],\n",
              " 'Philippines AirAsia': ['AirAsia', 'AirAsia Philippines'],\n",
              " '': [\"AirAsia Zest Air 's\"],\n",
              " 'AirAsia Zest': ['AirAsia Zest']}"
            ]
          },
          "execution_count": 231,
          "metadata": {},
          "output_type": "execute_result"
        }
      ],
      "source": [
        "dictfin"
      ]
    },
    {
      "cell_type": "code",
      "execution_count": null,
      "metadata": {
        "colab": {
          "base_uri": "https://localhost:8080/"
        },
        "id": "q7VD8TMnp5Pe",
        "outputId": "6e5278df-d78c-4f4a-808a-6e1922c94357"
      },
      "outputs": [
        {
          "name": "stdout",
          "output_type": "stream",
          "text": [
            "Looking in indexes: https://pypi.org/simple, https://us-python.pkg.dev/colab-wheels/public/simple/\n",
            "Requirement already satisfied: openpyxl in /usr/local/lib/python3.7/dist-packages (3.0.10)\n",
            "Requirement already satisfied: et-xmlfile in /usr/local/lib/python3.7/dist-packages (from openpyxl) (1.1.0)\n"
          ]
        }
      ],
      "source": [
        "!pip install openpyxl\n"
      ]
    },
    {
      "cell_type": "code",
      "execution_count": null,
      "metadata": {
        "id": "m0JaX9S136Kw"
      },
      "outputs": [],
      "source": [
        "import pandas as pd\n"
      ]
    },
    {
      "cell_type": "code",
      "execution_count": null,
      "metadata": {
        "colab": {
          "base_uri": "https://localhost:8080/",
          "height": 74,
          "resources": {
            "http://localhost:8080/nbextensions/google.colab/files.js": {
              "data": "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",
              "headers": [
                [
                  "content-type",
                  "application/javascript"
                ]
              ],
              "ok": true,
              "status": 200,
              "status_text": ""
            }
          }
        },
        "id": "9xb9vid7qXfi",
        "outputId": "a1d73c82-935c-4a27-a218-e9fd1720c55c"
      },
      "outputs": [
        {
          "data": {
            "text/html": [
              "\n",
              "     <input type=\"file\" id=\"files-828947fd-cc35-4646-8a89-c8d2bd4bcd1c\" name=\"files[]\" multiple disabled\n",
              "        style=\"border:none\" />\n",
              "     <output id=\"result-828947fd-cc35-4646-8a89-c8d2bd4bcd1c\">\n",
              "      Upload widget is only available when the cell has been executed in the\n",
              "      current browser session. Please rerun this cell to enable.\n",
              "      </output>\n",
              "      <script src=\"/nbextensions/google.colab/files.js\"></script> "
            ],
            "text/plain": [
              "<IPython.core.display.HTML object>"
            ]
          },
          "metadata": {},
          "output_type": "display_data"
        },
        {
          "name": "stdout",
          "output_type": "stream",
          "text": [
            "Saving docred_stat_ .csv to docred_stat_ .csv\n"
          ]
        }
      ],
      "source": [
        "from google.colab import files\n",
        "uploaded = files.upload()"
      ]
    },
    {
      "cell_type": "code",
      "execution_count": 1,
      "metadata": {
        "colab": {
          "base_uri": "https://localhost:8080/"
        },
        "id": "PtYJxt3qbLyd",
        "outputId": "f2b13f30-555b-4274-e9c0-0922eb620ccb"
      },
      "outputs": [
        {
          "ename": "UnicodeDecodeError",
          "evalue": "'charmap' codec can't decode byte 0x81 in position 4098: character maps to <undefined>",
          "output_type": "error",
          "traceback": [
            "\u001b[1;31m---------------------------------------------------------------------------\u001b[0m",
            "\u001b[1;31mUnicodeDecodeError\u001b[0m                        Traceback (most recent call last)",
            "\u001b[1;32mc:\\Users\\thisi\\Desktop\\cultivation of science\\flight_data.ipynb Cell 24\u001b[0m in \u001b[0;36m<cell line: 2>\u001b[1;34m()\u001b[0m\n\u001b[0;32m      <a href='vscode-notebook-cell:/c%3A/Users/thisi/Desktop/cultivation%20of%20science/flight_data.ipynb#X32sZmlsZQ%3D%3D?line=1'>2</a>\u001b[0m \u001b[39mwith\u001b[39;00m \u001b[39mopen\u001b[39m (\u001b[39m'\u001b[39m\u001b[39mdocred_stat_ .csv\u001b[39m\u001b[39m'\u001b[39m) \u001b[39mas\u001b[39;00m f:\n\u001b[0;32m      <a href='vscode-notebook-cell:/c%3A/Users/thisi/Desktop/cultivation%20of%20science/flight_data.ipynb#X32sZmlsZQ%3D%3D?line=2'>3</a>\u001b[0m   reader \u001b[39m=\u001b[39m csv\u001b[39m.\u001b[39mDictReader(f)\n\u001b[1;32m----> <a href='vscode-notebook-cell:/c%3A/Users/thisi/Desktop/cultivation%20of%20science/flight_data.ipynb#X32sZmlsZQ%3D%3D?line=3'>4</a>\u001b[0m   list1 \u001b[39m=\u001b[39m [line[\u001b[39m'\u001b[39m\u001b[39mActual Entity\u001b[39m\u001b[39m'\u001b[39m] \u001b[39mfor\u001b[39;00m line \u001b[39min\u001b[39;00m reader]\n\u001b[0;32m      <a href='vscode-notebook-cell:/c%3A/Users/thisi/Desktop/cultivation%20of%20science/flight_data.ipynb#X32sZmlsZQ%3D%3D?line=6'>7</a>\u001b[0m f\u001b[39m.\u001b[39mclose()\n",
            "\u001b[1;32mc:\\Users\\thisi\\Desktop\\cultivation of science\\flight_data.ipynb Cell 24\u001b[0m in \u001b[0;36m<listcomp>\u001b[1;34m(.0)\u001b[0m\n\u001b[0;32m      <a href='vscode-notebook-cell:/c%3A/Users/thisi/Desktop/cultivation%20of%20science/flight_data.ipynb#X32sZmlsZQ%3D%3D?line=1'>2</a>\u001b[0m \u001b[39mwith\u001b[39;00m \u001b[39mopen\u001b[39m (\u001b[39m'\u001b[39m\u001b[39mdocred_stat_ .csv\u001b[39m\u001b[39m'\u001b[39m) \u001b[39mas\u001b[39;00m f:\n\u001b[0;32m      <a href='vscode-notebook-cell:/c%3A/Users/thisi/Desktop/cultivation%20of%20science/flight_data.ipynb#X32sZmlsZQ%3D%3D?line=2'>3</a>\u001b[0m   reader \u001b[39m=\u001b[39m csv\u001b[39m.\u001b[39mDictReader(f)\n\u001b[1;32m----> <a href='vscode-notebook-cell:/c%3A/Users/thisi/Desktop/cultivation%20of%20science/flight_data.ipynb#X32sZmlsZQ%3D%3D?line=3'>4</a>\u001b[0m   list1 \u001b[39m=\u001b[39m [line[\u001b[39m'\u001b[39m\u001b[39mActual Entity\u001b[39m\u001b[39m'\u001b[39m] \u001b[39mfor\u001b[39;00m line \u001b[39min\u001b[39;00m reader]\n\u001b[0;32m      <a href='vscode-notebook-cell:/c%3A/Users/thisi/Desktop/cultivation%20of%20science/flight_data.ipynb#X32sZmlsZQ%3D%3D?line=6'>7</a>\u001b[0m f\u001b[39m.\u001b[39mclose()\n",
            "File \u001b[1;32mc:\\Users\\thisi\\AppData\\Local\\Programs\\Python\\Python310\\lib\\csv.py:111\u001b[0m, in \u001b[0;36mDictReader.__next__\u001b[1;34m(self)\u001b[0m\n\u001b[0;32m    108\u001b[0m \u001b[39mif\u001b[39;00m \u001b[39mself\u001b[39m\u001b[39m.\u001b[39mline_num \u001b[39m==\u001b[39m \u001b[39m0\u001b[39m:\n\u001b[0;32m    109\u001b[0m     \u001b[39m# Used only for its side effect.\u001b[39;00m\n\u001b[0;32m    110\u001b[0m     \u001b[39mself\u001b[39m\u001b[39m.\u001b[39mfieldnames\n\u001b[1;32m--> 111\u001b[0m row \u001b[39m=\u001b[39m \u001b[39mnext\u001b[39;49m(\u001b[39mself\u001b[39;49m\u001b[39m.\u001b[39;49mreader)\n\u001b[0;32m    112\u001b[0m \u001b[39mself\u001b[39m\u001b[39m.\u001b[39mline_num \u001b[39m=\u001b[39m \u001b[39mself\u001b[39m\u001b[39m.\u001b[39mreader\u001b[39m.\u001b[39mline_num\n\u001b[0;32m    114\u001b[0m \u001b[39m# unlike the basic reader, we prefer not to return blanks,\u001b[39;00m\n\u001b[0;32m    115\u001b[0m \u001b[39m# because we will typically wind up with a dict full of None\u001b[39;00m\n\u001b[0;32m    116\u001b[0m \u001b[39m# values\u001b[39;00m\n",
            "File \u001b[1;32mc:\\Users\\thisi\\AppData\\Local\\Programs\\Python\\Python310\\lib\\encodings\\cp1252.py:23\u001b[0m, in \u001b[0;36mIncrementalDecoder.decode\u001b[1;34m(self, input, final)\u001b[0m\n\u001b[0;32m     22\u001b[0m \u001b[39mdef\u001b[39;00m \u001b[39mdecode\u001b[39m(\u001b[39mself\u001b[39m, \u001b[39minput\u001b[39m, final\u001b[39m=\u001b[39m\u001b[39mFalse\u001b[39;00m):\n\u001b[1;32m---> 23\u001b[0m     \u001b[39mreturn\u001b[39;00m codecs\u001b[39m.\u001b[39;49mcharmap_decode(\u001b[39minput\u001b[39;49m,\u001b[39mself\u001b[39;49m\u001b[39m.\u001b[39;49merrors,decoding_table)[\u001b[39m0\u001b[39m]\n",
            "\u001b[1;31mUnicodeDecodeError\u001b[0m: 'charmap' codec can't decode byte 0x81 in position 4098: character maps to <undefined>"
          ]
        }
      ],
      "source": [
        "import csv\n",
        "with open ('docred_stat_ .csv') as f:\n",
        "  reader = csv.DictReader(f)\n",
        "  list1 = [line['Actual Entity'] for line in reader]\n",
        "\n",
        "\n",
        "f.close()"
      ]
    },
    {
      "cell_type": "code",
      "execution_count": null,
      "metadata": {
        "colab": {
          "base_uri": "https://localhost:8080/"
        },
        "id": "pnY_M5AajZPR",
        "outputId": "d42f5100-c209-408d-c74d-592e4b9be803"
      },
      "outputs": [],
      "source": [
        "\n",
        "with open ('docred_stat_ .csv') as g:\n",
        "  reader = csv.DictReader(g)\n",
        "  list2 = [line['Coref Output'] for line in reader]\n",
        "\n",
        "print(list2)\n",
        "g.close()"
      ]
    },
    {
      "cell_type": "code",
      "execution_count": null,
      "metadata": {
        "colab": {
          "base_uri": "https://localhost:8080/",
          "height": 375
        },
        "id": "-BQnWmZK9WQ3",
        "outputId": "54f9def0-becb-4d5b-cb2e-5fde4181f12d"
      },
      "outputs": [
        {
          "ename": "TypeError",
          "evalue": "ignored",
          "output_type": "error",
          "traceback": [
            "\u001b[0;31m---------------------------------------------------------------------------\u001b[0m",
            "\u001b[0;31mTypeError\u001b[0m                                 Traceback (most recent call last)",
            "\u001b[0;32m<ipython-input-240-7011ff959453>\u001b[0m in \u001b[0;36m<module>\u001b[0;34m\u001b[0m\n\u001b[1;32m      3\u001b[0m \u001b[0;34m\u001b[0m\u001b[0m\n\u001b[1;32m      4\u001b[0m \u001b[0;32mfor\u001b[0m \u001b[0mi\u001b[0m \u001b[0;32min\u001b[0m \u001b[0mrange\u001b[0m\u001b[0;34m(\u001b[0m\u001b[0mlen\u001b[0m\u001b[0;34m(\u001b[0m\u001b[0mlist1\u001b[0m\u001b[0;34m)\u001b[0m\u001b[0;34m)\u001b[0m\u001b[0;34m:\u001b[0m\u001b[0;34m\u001b[0m\u001b[0;34m\u001b[0m\u001b[0m\n\u001b[0;32m----> 5\u001b[0;31m   \u001b[0museIt\u001b[0m\u001b[0;34m(\u001b[0m\u001b[0;34m(\u001b[0m\u001b[0mlist1\u001b[0m\u001b[0;34m[\u001b[0m\u001b[0mi\u001b[0m\u001b[0;34m]\u001b[0m\u001b[0;34m)\u001b[0m\u001b[0;34m)\u001b[0m\u001b[0;34m\u001b[0m\u001b[0;34m\u001b[0m\u001b[0m\n\u001b[0m\u001b[1;32m      6\u001b[0m   \u001b[0mfdict\u001b[0m\u001b[0;34m=\u001b[0m\u001b[0mgen_dict\u001b[0m\u001b[0;34m(\u001b[0m\u001b[0mlist1\u001b[0m\u001b[0;34m)\u001b[0m\u001b[0;34m\u001b[0m\u001b[0;34m\u001b[0m\u001b[0m\n\u001b[1;32m      7\u001b[0m   \u001b[0mflist1\u001b[0m\u001b[0;34m.\u001b[0m\u001b[0mappend\u001b[0m\u001b[0;34m(\u001b[0m\u001b[0mfdict\u001b[0m\u001b[0;34m)\u001b[0m\u001b[0;34m\u001b[0m\u001b[0;34m\u001b[0m\u001b[0m\n",
            "\u001b[0;32m<ipython-input-214-079028a99ce6>\u001b[0m in \u001b[0;36museIt\u001b[0;34m(example)\u001b[0m\n\u001b[1;32m     15\u001b[0m   \u001b[0;32mfor\u001b[0m \u001b[0mi\u001b[0m \u001b[0;32min\u001b[0m \u001b[0mrange\u001b[0m\u001b[0;34m(\u001b[0m\u001b[0mlen\u001b[0m\u001b[0;34m(\u001b[0m\u001b[0mexample\u001b[0m\u001b[0;34m)\u001b[0m\u001b[0;34m)\u001b[0m\u001b[0;34m:\u001b[0m\u001b[0;34m\u001b[0m\u001b[0;34m\u001b[0m\u001b[0m\n\u001b[1;32m     16\u001b[0m     \u001b[0;32mfor\u001b[0m \u001b[0mj\u001b[0m \u001b[0;32min\u001b[0m \u001b[0mrange\u001b[0m\u001b[0;34m(\u001b[0m\u001b[0mlen\u001b[0m\u001b[0;34m(\u001b[0m\u001b[0mexample\u001b[0m\u001b[0;34m[\u001b[0m\u001b[0mi\u001b[0m\u001b[0;34m]\u001b[0m\u001b[0;34m)\u001b[0m\u001b[0;34m)\u001b[0m\u001b[0;34m:\u001b[0m\u001b[0;34m\u001b[0m\u001b[0;34m\u001b[0m\u001b[0m\n\u001b[0;32m---> 17\u001b[0;31m       \u001b[0mexample\u001b[0m\u001b[0;34m[\u001b[0m\u001b[0mi\u001b[0m\u001b[0;34m]\u001b[0m\u001b[0;34m[\u001b[0m\u001b[0mj\u001b[0m\u001b[0;34m]\u001b[0m \u001b[0;34m=\u001b[0m \u001b[0mstopWords\u001b[0m\u001b[0;34m(\u001b[0m\u001b[0mexample\u001b[0m\u001b[0;34m[\u001b[0m\u001b[0mi\u001b[0m\u001b[0;34m]\u001b[0m\u001b[0;34m[\u001b[0m\u001b[0mj\u001b[0m\u001b[0;34m]\u001b[0m\u001b[0;34m)\u001b[0m\u001b[0;34m\u001b[0m\u001b[0;34m\u001b[0m\u001b[0m\n\u001b[0m\u001b[1;32m     18\u001b[0m   \u001b[0mprint\u001b[0m\u001b[0;34m(\u001b[0m\u001b[0mexample\u001b[0m\u001b[0;34m)\u001b[0m\u001b[0;34m\u001b[0m\u001b[0;34m\u001b[0m\u001b[0m\n\u001b[1;32m     19\u001b[0m \u001b[0;34m\u001b[0m\u001b[0m\n",
            "\u001b[0;31mTypeError\u001b[0m: 'str' object does not support item assignment"
          ]
        }
      ],
      "source": [
        "flist1=[]\n",
        "fdict={}\n",
        "\n",
        "for i in range(len(list1)):\n",
        "  useIt((list1[i]))\n",
        "  fdict=gen_dict(list1)\n",
        "  flist1.append(fdict)\n",
        "\n",
        "print(flist1)\n",
        "\n"
      ]
    },
    {
      "cell_type": "code",
      "execution_count": null,
      "metadata": {
        "id": "-a4nBZ0s_9IC"
      },
      "outputs": [],
      "source": []
    }
  ],
  "metadata": {
    "colab": {
      "collapsed_sections": [],
      "provenance": []
    },
    "kernelspec": {
      "display_name": "Python 3.10.4 64-bit",
      "language": "python",
      "name": "python3"
    },
    "language_info": {
      "codemirror_mode": {
        "name": "ipython",
        "version": 3
      },
      "file_extension": ".py",
      "mimetype": "text/x-python",
      "name": "python",
      "nbconvert_exporter": "python",
      "pygments_lexer": "ipython3",
      "version": "3.10.4"
    },
    "vscode": {
      "interpreter": {
        "hash": "4af46800ec3e7d3535f5df043bdd7c66ecc07e36dbfc0d9b77de2e20797639e6"
      }
    }
  },
  "nbformat": 4,
  "nbformat_minor": 0
}
